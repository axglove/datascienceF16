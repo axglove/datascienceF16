{
 "cells": [
  {
   "cell_type": "code",
   "execution_count": 1,
   "metadata": {
    "collapsed": true
   },
   "outputs": [],
   "source": [
    "import requests\n",
    "import re\n",
    "from bs4 import BeautifulSoup\n"
   ]
  },
  {
   "cell_type": "code",
   "execution_count": 34,
   "metadata": {
    "collapsed": false
   },
   "outputs": [
    {
     "name": "stdout",
     "output_type": "stream",
     "text": [
      "[u'Requirements for all data scientists. Expert in Python and core libraries used by data scientists (Numpy, Scipy, Pandas, Scikit-learn, Matplotlib/Seaborn, etc.)...', u'Join Marin Software as a Data Scientist to apply your real world experience of data analysis and machine learning techniques on vast data sets....', u'Builds partnerships with business users, analysts, and data scientists to understand data, reporting, and analytic requirements....', u'\\nWe think of Emmett, the CEO, as Twitch\\u2019s original data scientist. Professional work as a Data Scientist at a web/mobile product company is preferred, but any...', u'\\nThe most commons will be SQL for data extraction, R for data analysis and a. Combination of R and Tableau for data visualization ....', u'\\nDevelop machine learning and data mining algorithms to extract meaningful information from thousand to millions articles....', u'\\nThe Data Scientist function enables and empowers macys.com marketing and site personalization with predictive modeling, forecasting, data mining, experimental...', u'\\nWe are looking for a sharp, disciplined, and highly quantitative individual who has a passion for data mining and data analytics....', u'\\nSenior Data Scientist. Integrating with external data sources and APIs to discover interesting trends. Building machine learning models from development through...', u'\\nApply your expertise in quantitative analysis, data mining, and the presentation of data to see beyond the numbers and understand how our users interact with...', u'\\nYou will develop tools for analytics of both health data and financial data. We are looking for an experienced, full-stack Data Scientist to join the Analytics...', u\"\\nEndless ideas about how to leverage Yelp's unique data set. Interested in applying? In this role you\\u2019ll be tackling a variety of projects ranging from design...\", u'\\nProbability, statistics, data mining, predictive modeling, experimental design, computational analytics, econometric modeling....', u'As a Senior Data Scientist, you will be in a group of data scientists and analysts that focus on Chegg\\u2019s Learning Services products....', u'In addition, you will help find the appropriate machine learning / data mining algorithms to answer these questions....']\n"
     ]
    }
   ],
   "source": [
    "##### INDEED #####\n",
    "\n",
    "# a job posting website (as well as resume hosting)\n",
    "# scrape some (or A LOT) of job postings from indeed for the job \"data scientist\"\n",
    "# Plan of Action:\n",
    "# http://www.indeed.com/jobs?q=data+scientist&l=San+Francisco%2C+CA\n",
    "# 1. Figure out the url for getting the summaries (by doing it yourself!)\n",
    "# 2. Scrape the summary\n",
    "# 3. Figure out how to change the page by changing the URL (hint, click the next page button and see how the url changes)\n",
    "# 4. BONUS: count the most used words in the sumaries\n",
    "\n",
    "#<span class=\"summary\">...</span>\n",
    "\n",
    "#r = requests.get('http://finance.google.com/finance?q='+symbol) # the url of the google finance page goes in here\n",
    "r = requests.get('http://www.indeed.com/jobs?q=data+scientist&l=San+Francisco%2C+CA') \n",
    "#print r\n",
    "\n",
    "# b = BeautifulSoup(r.text, \"html5lib\") # create a beautifulsoup object\n",
    "#b = BeautifulSoup(r.text, 'html.parser') # try this line instead if you have problems\n",
    "\n",
    "b = BeautifulSoup(r.text, 'html.parser') # try this line instead if you have problems\n",
    "\n",
    "#print b\n",
    "\n",
    "b.prettify() # will print the html nicely\n",
    "#print b\n",
    "\n",
    "# find all span tags\n",
    "b.findAll('span')\n",
    "\n",
    "#pattern = re.compile(\"ref_\\d+_l\")\n",
    "\n",
    "# \\w matches any word character, alphanumeric\n",
    "# if you want to match an actual period, do \\.\n",
    "#email_pattern = re.compile(\"[\\w\\.\\+]+@\\w+\\.com\")\n",
    "\n",
    "pattern = re.compile(\"summary\")\n",
    "#print pattern\n",
    "\n",
    "span_tags = b.findAll('span', attrs={'class': pattern}) \n",
    "\n",
    "type(span_tags)\n",
    "\n",
    "#print span_tags\n",
    "\n",
    "job_descriptions = [] \n",
    "\n",
    "for span in span_tags:\n",
    "    job_descriptions.append(span.text)\n",
    "\n",
    "print job_descriptions\n",
    "       \n",
    "\n",
    "    #http://www.indeed.com/jobs?q=data+scientist&l=San+Francisco%2C+CA\n",
    "    #http://www.indeed.com/jobs?q=data+scientist&l=San+Francisco%2C+CA&start=10&pp=\n",
    "    #http://www.indeed.com/jobs?q=data+scientist&l=San+Francisco%2C+CA&start=20&pp=\n",
    "   \n",
    "    \n",
    "\n",
    "\n"
   ]
  },
  {
   "cell_type": "code",
   "execution_count": null,
   "metadata": {
    "collapsed": true
   },
   "outputs": [],
   "source": [
    "#### UFO ######\n",
    "\n",
    "# SCRAPE ALL SIGHTINGS in 2016\n",
    "# Plan of action\n",
    "# 1. Figure out the pattern to get a certain year and month from nuforc\n",
    "# 2. Scrape each sightings\n",
    "# 3. Make a dataframe out of it\n",
    "# 4. make a day column\n",
    "# 5. graph each day in 2016 and see which day had the most! (Is it July 4th?)"
   ]
  },
  {
   "cell_type": "code",
   "execution_count": null,
   "metadata": {
    "collapsed": true
   },
   "outputs": [],
   "source": [
    "##### TWITTER ######\n",
    "\n",
    "# Create a dataframe where each row is a tweet that uses any tag (or tags) you choose!\n",
    "# include a column for date, text, user handle, user name, and user image\n",
    "# You can use the normal query method and not stream for this!"
   ]
  }
 ],
 "metadata": {
  "anaconda-cloud": {},
  "kernelspec": {
   "display_name": "Python [Root]",
   "language": "python",
   "name": "Python [Root]"
  },
  "language_info": {
   "codemirror_mode": {
    "name": "ipython",
    "version": 2
   },
   "file_extension": ".py",
   "mimetype": "text/x-python",
   "name": "python",
   "nbconvert_exporter": "python",
   "pygments_lexer": "ipython2",
   "version": "2.7.12"
  }
 },
 "nbformat": 4,
 "nbformat_minor": 0
}
