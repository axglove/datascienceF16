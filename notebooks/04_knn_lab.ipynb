{
 "cells": [
  {
   "cell_type": "code",
   "execution_count": 1,
   "metadata": {
    "collapsed": false
   },
   "outputs": [],
   "source": [
    "# Lab 3, predicting types of movement using accelerometer data\n",
    "\n",
    "import pandas as pd\n",
    "import numpy as np\n",
    "from matplotlib import pyplot as plt\n",
    "%matplotlib inline"
   ]
  },
  {
   "cell_type": "code",
   "execution_count": null,
   "metadata": {
    "collapsed": false
   },
   "outputs": [],
   "source": [
    "\"\"\"\n",
    "https://archive.ics.uci.edu/ml/datasets/Activity+Recognition+from+Single+Chest-Mounted+Accelerometer\n",
    "\n",
    "\n",
    "Dataset Information\n",
    "   --- Data are separated by participant\n",
    "   --- Each file contains the following information\n",
    "       ---- sequential number, x acceleration, y acceleration, z acceleration, label \n",
    "   --- Labels are codified by numbers\n",
    "       --- 1: Working at Computer\n",
    "       --- 2: Standing Up, Walking and Going up\\down stairs\n",
    "       --- 3: Standing\n",
    "       --- 4: Walking\n",
    "       --- 5: Going Up\\Down Stairs\n",
    "       --- 6: Walking and Talking with Someone\n",
    "       --- 7: Talking while Standing\n",
    "\"\"\""
   ]
  },
  {
   "cell_type": "code",
   "execution_count": 2,
   "metadata": {
    "collapsed": false
   },
   "outputs": [],
   "source": [
    "accel = pd.read_csv('../data/accelerometer_1.csv', header=None) # there is no header column"
   ]
  },
  {
   "cell_type": "code",
   "execution_count": null,
   "metadata": {
    "collapsed": false
   },
   "outputs": [],
   "source": [
    "accel.head()"
   ]
  },
  {
   "cell_type": "code",
   "execution_count": null,
   "metadata": {
    "collapsed": false
   },
   "outputs": [],
   "source": [
    "accel.shape"
   ]
  },
  {
   "cell_type": "code",
   "execution_count": null,
   "metadata": {
    "collapsed": true
   },
   "outputs": [],
   "source": [
    "# Beginner Level"
   ]
  },
  {
   "cell_type": "code",
   "execution_count": 3,
   "metadata": {
    "collapsed": false
   },
   "outputs": [],
   "source": [
    "# 0. This dataframe has no headers, change that so the column names are\n",
    "# ['id', 'x', 'y', 'z', 'label']\n",
    "\n",
    "header_row = ['id', 'x', 'y', 'z', 'label']\n",
    "accel.columns = header_row\n"
   ]
  },
  {
   "cell_type": "code",
   "execution_count": null,
   "metadata": {
    "collapsed": false
   },
   "outputs": [],
   "source": [
    "accel.head()"
   ]
  },
  {
   "cell_type": "code",
   "execution_count": 42,
   "metadata": {
    "collapsed": false
   },
   "outputs": [
    {
     "name": "stdout",
     "output_type": "stream",
     "text": [
      "162500\n"
     ]
    },
    {
     "data": {
      "text/html": [
       "<div>\n",
       "<table border=\"1\" class=\"dataframe\">\n",
       "  <thead>\n",
       "    <tr style=\"text-align: right;\">\n",
       "      <th></th>\n",
       "      <th>id</th>\n",
       "      <th>x</th>\n",
       "      <th>y</th>\n",
       "      <th>z</th>\n",
       "    </tr>\n",
       "  </thead>\n",
       "  <tbody>\n",
       "    <tr>\n",
       "      <th>count</th>\n",
       "      <td>162500.000000</td>\n",
       "      <td>162500.000000</td>\n",
       "      <td>162500.000000</td>\n",
       "      <td>162500.000000</td>\n",
       "    </tr>\n",
       "    <tr>\n",
       "      <th>mean</th>\n",
       "      <td>81249.500000</td>\n",
       "      <td>1910.670788</td>\n",
       "      <td>2380.286326</td>\n",
       "      <td>2041.214603</td>\n",
       "    </tr>\n",
       "    <tr>\n",
       "      <th>std</th>\n",
       "      <td>46909.853797</td>\n",
       "      <td>40.653323</td>\n",
       "      <td>41.925853</td>\n",
       "      <td>59.529519</td>\n",
       "    </tr>\n",
       "    <tr>\n",
       "      <th>min</th>\n",
       "      <td>0.000000</td>\n",
       "      <td>1455.000000</td>\n",
       "      <td>1697.000000</td>\n",
       "      <td>1644.000000</td>\n",
       "    </tr>\n",
       "    <tr>\n",
       "      <th>25%</th>\n",
       "      <td>40624.750000</td>\n",
       "      <td>1886.000000</td>\n",
       "      <td>2374.000000</td>\n",
       "      <td>1991.000000</td>\n",
       "    </tr>\n",
       "    <tr>\n",
       "      <th>50%</th>\n",
       "      <td>81249.500000</td>\n",
       "      <td>1905.000000</td>\n",
       "      <td>2381.000000</td>\n",
       "      <td>2022.000000</td>\n",
       "    </tr>\n",
       "    <tr>\n",
       "      <th>75%</th>\n",
       "      <td>121872.500000</td>\n",
       "      <td>1935.000000</td>\n",
       "      <td>2386.000000</td>\n",
       "      <td>2101.000000</td>\n",
       "    </tr>\n",
       "    <tr>\n",
       "      <th>max</th>\n",
       "      <td>162500.000000</td>\n",
       "      <td>2356.000000</td>\n",
       "      <td>2713.000000</td>\n",
       "      <td>2739.000000</td>\n",
       "    </tr>\n",
       "  </tbody>\n",
       "</table>\n",
       "</div>"
      ],
      "text/plain": [
       "                  id              x              y              z\n",
       "count  162500.000000  162500.000000  162500.000000  162500.000000\n",
       "mean    81249.500000    1910.670788    2380.286326    2041.214603\n",
       "std     46909.853797      40.653323      41.925853      59.529519\n",
       "min         0.000000    1455.000000    1697.000000    1644.000000\n",
       "25%     40624.750000    1886.000000    2374.000000    1991.000000\n",
       "50%     81249.500000    1905.000000    2381.000000    2022.000000\n",
       "75%    121872.500000    1935.000000    2386.000000    2101.000000\n",
       "max    162500.000000    2356.000000    2713.000000    2739.000000"
      ]
     },
     "execution_count": 42,
     "metadata": {},
     "output_type": "execute_result"
    }
   ],
   "source": [
    "# 1. Do we have any missing values?\n",
    "\n",
    "print len(accel)\n",
    "accel.describe()"
   ]
  },
  {
   "cell_type": "code",
   "execution_count": 4,
   "metadata": {
    "collapsed": false
   },
   "outputs": [
    {
     "name": "stdout",
     "output_type": "stream",
     "text": [
      "7    83748\n",
      "1    33677\n",
      "4    26860\n",
      "3    11179\n",
      "5     3191\n",
      "6     2917\n",
      "2      928\n",
      "0        1\n",
      "Name: label, dtype: int64\n"
     ]
    }
   ],
   "source": [
    "# 2. print the value counts for the albel column of accel\n",
    "\n",
    "print accel['label'].value_counts()"
   ]
  },
  {
   "cell_type": "code",
   "execution_count": 5,
   "metadata": {
    "collapsed": false
   },
   "outputs": [
    {
     "name": "stdout",
     "output_type": "stream",
     "text": [
      "[1 2 3 4 5 6 7 0]\n"
     ]
    },
    {
     "data": {
      "text/html": [
       "<div>\n",
       "<table border=\"1\" class=\"dataframe\">\n",
       "  <thead>\n",
       "    <tr style=\"text-align: right;\">\n",
       "      <th></th>\n",
       "      <th>id</th>\n",
       "      <th>x</th>\n",
       "      <th>y</th>\n",
       "      <th>z</th>\n",
       "      <th>label</th>\n",
       "    </tr>\n",
       "  </thead>\n",
       "  <tbody>\n",
       "    <tr>\n",
       "      <th>count</th>\n",
       "      <td>162500.000000</td>\n",
       "      <td>162500.000000</td>\n",
       "      <td>162500.000000</td>\n",
       "      <td>162500.000000</td>\n",
       "      <td>162500.000000</td>\n",
       "    </tr>\n",
       "    <tr>\n",
       "      <th>mean</th>\n",
       "      <td>81249.500000</td>\n",
       "      <td>1910.670788</td>\n",
       "      <td>2380.286326</td>\n",
       "      <td>2041.214603</td>\n",
       "      <td>4.899711</td>\n",
       "    </tr>\n",
       "    <tr>\n",
       "      <th>std</th>\n",
       "      <td>46909.853797</td>\n",
       "      <td>40.653323</td>\n",
       "      <td>41.925853</td>\n",
       "      <td>59.529519</td>\n",
       "      <td>2.424288</td>\n",
       "    </tr>\n",
       "    <tr>\n",
       "      <th>min</th>\n",
       "      <td>0.000000</td>\n",
       "      <td>1455.000000</td>\n",
       "      <td>1697.000000</td>\n",
       "      <td>1644.000000</td>\n",
       "      <td>1.000000</td>\n",
       "    </tr>\n",
       "    <tr>\n",
       "      <th>25%</th>\n",
       "      <td>40624.750000</td>\n",
       "      <td>1886.000000</td>\n",
       "      <td>2374.000000</td>\n",
       "      <td>1991.000000</td>\n",
       "      <td>3.000000</td>\n",
       "    </tr>\n",
       "    <tr>\n",
       "      <th>50%</th>\n",
       "      <td>81249.500000</td>\n",
       "      <td>1905.000000</td>\n",
       "      <td>2381.000000</td>\n",
       "      <td>2022.000000</td>\n",
       "      <td>7.000000</td>\n",
       "    </tr>\n",
       "    <tr>\n",
       "      <th>75%</th>\n",
       "      <td>121872.500000</td>\n",
       "      <td>1935.000000</td>\n",
       "      <td>2386.000000</td>\n",
       "      <td>2101.000000</td>\n",
       "      <td>7.000000</td>\n",
       "    </tr>\n",
       "    <tr>\n",
       "      <th>max</th>\n",
       "      <td>162500.000000</td>\n",
       "      <td>2356.000000</td>\n",
       "      <td>2713.000000</td>\n",
       "      <td>2739.000000</td>\n",
       "      <td>7.000000</td>\n",
       "    </tr>\n",
       "  </tbody>\n",
       "</table>\n",
       "</div>"
      ],
      "text/plain": [
       "                  id              x              y              z  \\\n",
       "count  162500.000000  162500.000000  162500.000000  162500.000000   \n",
       "mean    81249.500000    1910.670788    2380.286326    2041.214603   \n",
       "std     46909.853797      40.653323      41.925853      59.529519   \n",
       "min         0.000000    1455.000000    1697.000000    1644.000000   \n",
       "25%     40624.750000    1886.000000    2374.000000    1991.000000   \n",
       "50%     81249.500000    1905.000000    2381.000000    2022.000000   \n",
       "75%    121872.500000    1935.000000    2386.000000    2101.000000   \n",
       "max    162500.000000    2356.000000    2713.000000    2739.000000   \n",
       "\n",
       "               label  \n",
       "count  162500.000000  \n",
       "mean        4.899711  \n",
       "std         2.424288  \n",
       "min         1.000000  \n",
       "25%         3.000000  \n",
       "50%         7.000000  \n",
       "75%         7.000000  \n",
       "max         7.000000  "
      ]
     },
     "execution_count": 5,
     "metadata": {},
     "output_type": "execute_result"
    }
   ],
   "source": [
    "# 3. Remove any rows where the label column is not 1 - 7\n",
    "\n",
    "labels = accel['label'].unique()\n",
    "print labels\n",
    "\n",
    "accel = accel[accel.label != 0]\n",
    "\n",
    "accel.describe()"
   ]
  },
  {
   "cell_type": "code",
   "execution_count": 6,
   "metadata": {
    "collapsed": false
   },
   "outputs": [
    {
     "name": "stdout",
     "output_type": "stream",
     "text": [
      "7    83748\n",
      "1    33677\n",
      "4    26860\n",
      "3    11179\n",
      "5     3191\n",
      "6     2917\n",
      "2      928\n",
      "Name: label, dtype: int64\n"
     ]
    }
   ],
   "source": [
    "print accel['label'].value_counts()"
   ]
  },
  {
   "cell_type": "code",
   "execution_count": 7,
   "metadata": {
    "collapsed": false
   },
   "outputs": [
    {
     "name": "stdout",
     "output_type": "stream",
     "text": [
      "Talking while Standing                           83748\n",
      "Working at Computer                              33677\n",
      "Walking                                          26860\n",
      "Standing                                         11179\n",
      "Going Up\\Down Stairs                              3191\n",
      "Walking and Talking with Someone                  2917\n",
      "Standing Up, Walking and Going up\\down stairs      928\n",
      "Name: label, dtype: int64\n"
     ]
    }
   ],
   "source": [
    "# 4. replace the numbers in the label column with the word counterpart:\n",
    "    # example 1's become 'Working at Computer', 4's become \"Walking\"\n",
    "    \n",
    "'''\n",
    "       --- 1: Working at Computer\n",
    "       --- 2: Standing Up, Walking and Going up\\down stairs\n",
    "       --- 3: Standing\n",
    "       --- 4: Walking\n",
    "       --- 5: Going Up\\Down Stairs\n",
    "       --- 6: Walking and Talking with Someone\n",
    "       --- 7: Talking while Standing''\n",
    "'''\n",
    "\n",
    "word_labels = ['Working at Computer', 'Standing Up, Walking and Going up\\down stairs', 'Standing', 'Walking', 'Going Up\\Down Stairs', 'Walking and Talking with Someone', 'Talking while Standing' ]\n",
    "\n",
    "def update_labels(row):\n",
    "    \n",
    "    label = int(row['label'])\n",
    "    new_label = word_labels[label - 1]\n",
    "    return new_label\n",
    "\n",
    "accel['label'] = accel.apply(update_labels, axis=1)\n",
    "\n",
    "print accel['label'].value_counts()\n"
   ]
  },
  {
   "cell_type": "code",
   "execution_count": 8,
   "metadata": {
    "collapsed": false
   },
   "outputs": [
    {
     "name": "stdout",
     "output_type": "stream",
     "text": [
      "Talking while Standing                           83748\n",
      "Working at Computer                              33677\n",
      "Walking                                          26860\n",
      "Standing                                         11179\n",
      "Going Up\\Down Stairs                              3191\n",
      "Walking and Talking with Someone                  2917\n",
      "Standing Up, Walking and Going up\\down stairs      928\n",
      "Name: label, dtype: int64\n"
     ]
    },
    {
     "data": {
      "text/plain": [
       "<matplotlib.axes._subplots.AxesSubplot at 0x116f17610>"
      ]
     },
     "execution_count": 8,
     "metadata": {},
     "output_type": "execute_result"
    },
    {
     "data": {
      "image/png": "[encoded data removed]",
      "text/plain": [
       "<matplotlib.figure.Figure at 0x116f49f90>"
      ]
     },
     "metadata": {},
     "output_type": "display_data"
    }
   ],
   "source": [
    "# 5. Plot the number of times each label occurs using a bar char\n",
    "\n",
    "#ufo.shape_reported.value.count().plot(kind='bar')\n",
    "\n",
    "print accel['label'].value_counts()\n",
    "\n",
    "accel['label'].value_counts().plot(kind='bar')"
   ]
  },
  {
   "cell_type": "code",
   "execution_count": 9,
   "metadata": {
    "collapsed": false
   },
   "outputs": [
    {
     "name": "stdout",
     "output_type": "stream",
     "text": [
      "0.515372307692\n"
     ]
    }
   ],
   "source": [
    "# 6. Talking while Standing is the most common label, \n",
    "# what is the null accuracy rate for this data set\n",
    "# The null accuracy is equal to the number of times the most \n",
    "# common response element occurs divided by the total number of rows\n",
    "# Talking while Standing                           0.515372\n",
    "\n",
    "#accel[accel.label == 'Talking while Standing'].count()\n",
    "\n",
    "from __future__ import division\n",
    "\n",
    "most_frequent = accel['label'].value_counts()[0]\n",
    "#print most_frequent\n",
    "total_rows = len(accel)\n",
    "#print total_rows\n",
    "\n",
    "null_accuracy = most_frequent/total_rows\n",
    "print null_accuracy\n"
   ]
  },
  {
   "cell_type": "code",
   "execution_count": 10,
   "metadata": {
    "collapsed": false
   },
   "outputs": [
    {
     "name": "stdout",
     "output_type": "stream",
     "text": [
      "(162500, 3)\n",
      "(162500,)\n"
     ]
    }
   ],
   "source": [
    "# 7. Make an X and a y variable with X being only the x, y, and z columns\n",
    "# while y is the label column\n",
    "\n",
    "X, y = accel.drop(accel.columns[[0, 4]], axis=1), accel['label']\n",
    "#X, y = accel.drop(accel.columns[['id', 'label']], axis=1), accel['label']\n",
    "\n",
    "print X.shape\n",
    "print y.shape"
   ]
  },
  {
   "cell_type": "code",
   "execution_count": 11,
   "metadata": {
    "collapsed": false
   },
   "outputs": [
    {
     "data": {
      "text/plain": [
       "0.88682461538461543"
      ]
     },
     "execution_count": 11,
     "metadata": {},
     "output_type": "execute_result"
    }
   ],
   "source": [
    "# 8. Fit a KNN model with 3 neighbors and print the accuracy of that model\n",
    "# Did you do better than the null model?\n",
    "\n",
    "from sklearn.neighbors import KNeighborsClassifier\n",
    "\n",
    "knn = KNeighborsClassifier(n_neighbors=3)\n",
    "knn.fit(X, y) \n",
    "knn.score(X, y)"
   ]
  },
  {
   "cell_type": "code",
   "execution_count": 12,
   "metadata": {
    "collapsed": false
   },
   "outputs": [
    {
     "name": "stdout",
     "output_type": "stream",
     "text": [
      "score for x:\n",
      "0.648049230769\n",
      "score for y:\n",
      "0.642196923077\n",
      "score for z:\n",
      "0.625636923077\n"
     ]
    }
   ],
   "source": [
    "# 9. print the accuracy of predicting the label column using each column individually\n",
    "# Ie fit 3 different KNN models, \n",
    "# a KNN model with K=3 for each of the x, y, and z columns\n",
    "\n",
    "X, y = accel.drop(accel.columns[[0, 2, 3, 4]], axis=1), accel['label']\n",
    "#X, y = accel['x'], accel['label']\n",
    "\n",
    "#print X.shape\n",
    "#print y.shape\n",
    "\n",
    "print \"score for x:\"\n",
    "\n",
    "knn = KNeighborsClassifier(n_neighbors=3)\n",
    "knn.fit(X, y) \n",
    "print knn.score(X, y)\n",
    "\n",
    "X, y = accel.drop(accel.columns[[0, 1, 3, 4]], axis=1), accel['label']\n",
    "\n",
    "print \"score for y:\"\n",
    "\n",
    "knn = KNeighborsClassifier(n_neighbors=3)\n",
    "knn.fit(X, y) \n",
    "print knn.score(X, y)\n",
    "\n",
    "X, y = accel.drop(accel.columns[[0, 1, 2, 4]], axis=1), accel['label']\n",
    "\n",
    "print \"score for z:\"\n",
    "\n",
    "knn = KNeighborsClassifier(n_neighbors=3)\n",
    "knn.fit(X, y) \n",
    "print knn.score(X, y)\n"
   ]
  },
  {
   "cell_type": "code",
   "execution_count": null,
   "metadata": {
    "collapsed": true
   },
   "outputs": [],
   "source": [
    "# Intermediate Level"
   ]
  },
  {
   "cell_type": "code",
   "execution_count": 15,
   "metadata": {
    "collapsed": false
   },
   "outputs": [
    {
     "name": "stdout",
     "output_type": "stream",
     "text": [
      "[0.96633230769230771, 0.88388923076923076, 0.88682461538461543, 0.87748307692307692, 0.87505846153846156, 0.87161230769230769, 0.87007999999999996, 0.86812307692307689, 0.86747692307692303, 0.86657230769230764, 0.86561846153846156, 0.86496615384615383, 0.86491692307692303, 0.86371076923076928, 0.86340307692307694, 0.86336615384615389, 0.86305846153846155, 0.86270153846153841, 0.86247384615384615, 0.86219692307692308, 0.86204307692307691, 0.8616553846153846, 0.86154461538461535, 0.86118769230769232, 0.86107692307692307, 0.8609969230769231, 0.86098461538461535, 0.86060923076923079, 0.86037538461538465]\n"
     ]
    }
   ],
   "source": [
    "# 10. Create a list called scores that holds 29 different accuracys, \n",
    "# one for each value of K between 1 and 29\n",
    "# Use all three columns for each model\n",
    "\n",
    "scores = []\n",
    "X, y = accel.drop(accel.columns[[0, 4]], axis=1), accel['label']\n",
    "\n",
    "for i in np.arange(1,30):\n",
    "    knn = KNeighborsClassifier(n_neighbors=i)\n",
    "    knn.fit(X, y) \n",
    "    iscore = knn.score(X, y)\n",
    "    scores.append(iscore)\n",
    "\n",
    "print scores\n"
   ]
  },
  {
   "cell_type": "code",
   "execution_count": 14,
   "metadata": {
    "collapsed": false
   },
   "outputs": [
    {
     "data": {
      "text/plain": [
       "[<matplotlib.lines.Line2D at 0x1140a0b90>]"
      ]
     },
     "execution_count": 14,
     "metadata": {},
     "output_type": "execute_result"
    },
    {
     "data": {
      "image/png": "[encoded data removed]",
      "text/plain": [
       "<matplotlib.figure.Figure at 0x11df3ad50>"
      ]
     },
     "metadata": {},
     "output_type": "display_data"
    }
   ],
   "source": [
    "# 11. Make a graph that plots the number of K on the x axis and the accuracy of a KNN model on the y axis\n",
    "\n",
    "x = np.arange(1,30)\n",
    "y = scores\n",
    "plt.plot(x, y)"
   ]
  },
  {
   "cell_type": "code",
   "execution_count": null,
   "metadata": {
    "collapsed": true
   },
   "outputs": [],
   "source": [
    "# Why do you think that the accuracy keeps going down? We will discuss this phenomenom more on Wednesday"
   ]
  },
  {
   "cell_type": "code",
   "execution_count": null,
   "metadata": {
    "collapsed": true
   },
   "outputs": [],
   "source": [
    "# ADVANCED Level"
   ]
  },
  {
   "cell_type": "code",
   "execution_count": 16,
   "metadata": {
    "collapsed": false
   },
   "outputs": [
    {
     "name": "stderr",
     "output_type": "stream",
     "text": [
      "/Users/alexlove/anaconda2/lib/python2.7/site-packages/sklearn/utils/validation.py:420: DataConversionWarning: Data with input dtype int64 was converted to float64 by StandardScaler.\n",
      "  warnings.warn(msg, DataConversionWarning)\n",
      "/Users/alexlove/anaconda2/lib/python2.7/site-packages/sklearn/utils/validation.py:420: DataConversionWarning: Data with input dtype int64 was converted to float64 by StandardScaler.\n",
      "  warnings.warn(msg, DataConversionWarning)\n"
     ]
    },
    {
     "data": {
      "text/plain": [
       "array([[-10.05261103,  -3.94236067,   1.87782031],\n",
       "       [ -5.99388975,  -7.35315447,   0.09718564],\n",
       "       [ -7.37139516, -10.09610053,  -2.27139443],\n",
       "       [ -7.61737826, -10.52543121,  -3.53127745],\n",
       "       [ -6.58424921,  -9.90528689,  -2.72495232]])"
      ]
     },
     "execution_count": 16,
     "metadata": {},
     "output_type": "execute_result"
    }
   ],
   "source": [
    "# 12. create a new dataframe called X_scaled which\n",
    "# is the scaled version of the X dataframe\n",
    "\n",
    "from sklearn.preprocessing import StandardScaler\n",
    "s = StandardScaler()\n",
    "\n",
    "# standard scalr can only take in numpy arrays, no dataframes\n",
    "#X_scaled = s.fit_transform(X[['petal_length', 'petal_width']].as_matrix())\n",
    "X_scaled = s.fit_transform(X.as_matrix())\n",
    "\n",
    "X_scaled[:5,] # first five rows"
   ]
  },
  {
   "cell_type": "code",
   "execution_count": 17,
   "metadata": {
    "collapsed": false
   },
   "outputs": [
    {
     "data": {
      "text/plain": [
       "0.88682461538461543"
      ]
     },
     "execution_count": 17,
     "metadata": {},
     "output_type": "execute_result"
    }
   ],
   "source": [
    "# not scaled\n",
    "\n",
    "knn = KNeighborsClassifier(n_neighbors=3)\n",
    "knn.fit(X, y)\n",
    "knn.score(X, y)"
   ]
  },
  {
   "cell_type": "code",
   "execution_count": 18,
   "metadata": {
    "collapsed": false
   },
   "outputs": [
    {
     "data": {
      "text/plain": [
       "0.88762461538461535"
      ]
     },
     "execution_count": 18,
     "metadata": {},
     "output_type": "execute_result"
    }
   ],
   "source": [
    "#  scaled\n",
    "\n",
    "knn = KNeighborsClassifier(n_neighbors=3)\n",
    "knn.fit(X_scaled, y)\n",
    "knn.score(X_scaled, y)"
   ]
  },
  {
   "cell_type": "code",
   "execution_count": null,
   "metadata": {
    "collapsed": true
   },
   "outputs": [],
   "source": [
    "# 13. Why do you think there was very little difference?"
   ]
  },
  {
   "cell_type": "code",
   "execution_count": null,
   "metadata": {
    "collapsed": true
   },
   "outputs": [],
   "source": []
  },
  {
   "cell_type": "code",
   "execution_count": 37,
   "metadata": {
    "collapsed": false
   },
   "outputs": [
    {
     "data": {
      "text/plain": [
       "stationary    128604\n",
       "mobile         33896\n",
       "Name: movement_type, dtype: int64"
      ]
     },
     "execution_count": 37,
     "metadata": {},
     "output_type": "execute_result"
    }
   ],
   "source": [
    "# 14. binarize the response (turn it into a binary response problem)\n",
    "# create a new column called \"binary_label\" which is either \"stationary\", \"mobile\n",
    "# \"binary_label is \"stationary\" if the person is stationary (1, 3, 7)\n",
    "# \"binary_label is \"mobile\" if the person is mobile (2, 4, 5, 6)\n",
    "\n",
    "\n",
    "#accel['movement_type'] = accel.apply(lambda row: 'stationary' if row['label']==1|row['label']==3|row['label']==7 else 'mobile', axis=1)\n",
    "\n",
    "#accel['movement_type'] = accel.apply(lambda row: 'stationary' if row['label']==1 else 'mobile', axis=1)\n",
    "#accel['movement_type'] = accel.apply(lambda row: 'stationary' if row['label']==1, axis=1)\n",
    "\n",
    "\n",
    "def assign_movement_type(row):\n",
    "    label = row['label'] \n",
    "    if label == 'Working at Computer':\n",
    "        return 'stationary'\n",
    "    elif label == 'Standing':\n",
    "        return 'stationary'\n",
    "    elif label == 'Talking while Standing':\n",
    "        return 'stationary'\n",
    "    else:\n",
    "        return 'mobile'\n",
    "\n",
    "accel['movement_type'] = accel.apply(assign_movement_type, axis=1)\n",
    "\n",
    "accel['movement_type'].value_counts()"
   ]
  },
  {
   "cell_type": "code",
   "execution_count": null,
   "metadata": {
    "collapsed": false
   },
   "outputs": [],
   "source": [
    "accel.head()"
   ]
  },
  {
   "cell_type": "code",
   "execution_count": 39,
   "metadata": {
    "collapsed": false
   },
   "outputs": [
    {
     "name": "stdout",
     "output_type": "stream",
     "text": [
      "128604\n",
      "162500\n",
      "0.791409230769\n"
     ]
    }
   ],
   "source": [
    "# 15. find the null accuracy of the new binary problem\n",
    "\n",
    "# The null accuracy is equal to the number of times the most \n",
    "# common response element occurs divided by the total number of rows\n",
    "\n",
    "most_frequent = accel['movement_type'].value_counts()['stationary']\n",
    "print most_frequent\n",
    "total_rows = len(accel)\n",
    "print total_rows\n",
    "\n",
    "null_accuracy = most_frequent/total_rows\n",
    "print null_accuracy\n",
    "\n",
    "# stationary    0.791409"
   ]
  },
  {
   "cell_type": "code",
   "execution_count": 40,
   "metadata": {
    "collapsed": false
   },
   "outputs": [],
   "source": [
    "# 16. create a new variable, \"y_binary\" which is the binary_label column\n",
    "\n",
    "y_binary = accel['movement_type']"
   ]
  },
  {
   "cell_type": "code",
   "execution_count": 41,
   "metadata": {
    "collapsed": false
   },
   "outputs": [
    {
     "data": {
      "text/plain": [
       "0.95848"
      ]
     },
     "execution_count": 41,
     "metadata": {},
     "output_type": "execute_result"
    }
   ],
   "source": [
    "# 17. Fit a KNN with K=3 to this binary problem and print out the accuracy\n",
    "\n",
    "knn = KNeighborsClassifier(n_neighbors=3)\n",
    "knn.fit(X, y_binary)\n",
    "knn.score(X, y_binary)\n"
   ]
  }
 ],
 "metadata": {
  "anaconda-cloud": {},
  "kernelspec": {
   "display_name": "Python [Root]",
   "language": "python",
   "name": "Python [Root]"
  },
  "language_info": {
   "codemirror_mode": {
    "name": "ipython",
    "version": 2
   },
   "file_extension": ".py",
   "mimetype": "text/x-python",
   "name": "python",
   "nbconvert_exporter": "python",
   "pygments_lexer": "ipython2",
   "version": "2.7.12"
  }
 },
 "nbformat": 4,
 "nbformat_minor": 0
}
