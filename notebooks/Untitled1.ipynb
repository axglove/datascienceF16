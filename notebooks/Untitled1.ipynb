{
 "cells": [
  {
   "cell_type": "code",
   "execution_count": 4,
   "metadata": {
    "collapsed": false
   },
   "outputs": [
    {
     "ename": "NameError",
     "evalue": "name 'feature' is not defined",
     "output_type": "error",
     "traceback": [
      "\u001b[0;31m---------------------------------------------------------------------------\u001b[0m",
      "\u001b[0;31mNameError\u001b[0m                                 Traceback (most recent call last)",
      "\u001b[0;32m<ipython-input-4-c9c79b7f5751>\u001b[0m in \u001b[0;36m<module>\u001b[0;34m()\u001b[0m\n\u001b[1;32m     42\u001b[0m \u001b[0;31m#f_select.f_regression(bostondf[\"CRIM\"], bostondf[y_column])\u001b[0m\u001b[0;34m\u001b[0m\u001b[0;34m\u001b[0m\u001b[0m\n\u001b[1;32m     43\u001b[0m \u001b[0;34m\u001b[0m\u001b[0m\n\u001b[0;32m---> 44\u001b[0;31m \u001b[0mf_select\u001b[0m\u001b[0;34m.\u001b[0m\u001b[0mf_regression\u001b[0m\u001b[0;34m(\u001b[0m\u001b[0mbostondf\u001b[0m\u001b[0;34m[\u001b[0m\u001b[0;34m[\u001b[0m\u001b[0mfeature\u001b[0m\u001b[0;34m]\u001b[0m\u001b[0;34m]\u001b[0m\u001b[0;34m,\u001b[0m \u001b[0mbostondf\u001b[0m\u001b[0;34m[\u001b[0m\u001b[0my_column\u001b[0m\u001b[0;34m]\u001b[0m\u001b[0;34m)\u001b[0m\u001b[0;34m\u001b[0m\u001b[0m\n\u001b[0m\u001b[1;32m     45\u001b[0m \u001b[0mf_select\u001b[0m\u001b[0;34m.\u001b[0m\u001b[0mf_regression\u001b[0m\u001b[0;34m(\u001b[0m\u001b[0mbostondf\u001b[0m\u001b[0;34m[\u001b[0m\u001b[0mx_columns\u001b[0m\u001b[0;34m]\u001b[0m\u001b[0;34m,\u001b[0m \u001b[0mbostondf\u001b[0m\u001b[0;34m[\u001b[0m\u001b[0my_column\u001b[0m\u001b[0;34m]\u001b[0m\u001b[0;34m)\u001b[0m\u001b[0;34m\u001b[0m\u001b[0m\n",
      "\u001b[0;31mNameError\u001b[0m: name 'feature' is not defined"
     ]
    }
   ],
   "source": [
    "%matplotlib inline\n",
    "# note a change here\n",
    "# matplotlib is less specific and doesn't import anything \"extra.\"\n",
    "# compared to %pylab inline\n",
    "\n",
    "import pandas as pd\n",
    "import numpy as np\n",
    "import matplotlib.pyplot as plt\n",
    "import seaborn as sns\n",
    "from __future__ import division\n",
    "pd.set_option('display.max_rows', 500)\n",
    "pd.set_option('display.max_columns', 50)\n",
    "pd.set_option('display.width', 1000)\n",
    "\n",
    "from sklearn import feature_selection as f_select\n",
    "from sklearn import linear_model as lm\n",
    "from sklearn import cross_validation as cv\n",
    "from sklearn import metrics\n",
    "from sklearn.datasets import load_boston\n",
    "\n",
    "boston = load_boston()\n",
    "#print type(boston) \n",
    "#= sklearn.datasets.base.Bunch ??\n",
    "#print boston\n",
    "#feature and target data are separate arrays\n",
    "desc = boston.DESCR\n",
    "#print desc\n",
    "bostondf = pd.DataFrame(boston.data, columns=boston.feature_names)\n",
    "# target is a separate array of values in the dataset - creating a new column here\n",
    "bostondf['MEDV'] = boston.target\n",
    "\n",
    "#separates the independent variable/result from the dependent variables/parameters\n",
    "x_columns = list(bostondf.columns)\n",
    "y_column = 'MEDV'\n",
    "x_columns.remove(y_column)\n",
    "\n",
    "# http://scikit-learn.org/stable/modules/generated/sklearn.feature_selection.f_regression.html\n",
    "\n",
    "#this would return an array of f-values and an array of p-values\n",
    "#f_select.f_regression(bostondf[x_columns], bostondf[y_column])\n",
    "#this failed:  ValueError: Found arrays with inconsistent numbers of samples: [  1 506]\n",
    "#f_select.f_regression(bostondf[\"CRIM\"], bostondf[y_column])\n",
    "\n",
    "#f_select.f_regression(bostondf[[feature]], bostondf[y_column])\n",
    "#doesn't work"
   ]
  }
 ],
 "metadata": {
  "kernelspec": {
   "display_name": "Python [Root]",
   "language": "python",
   "name": "Python [Root]"
  },
  "language_info": {
   "codemirror_mode": {
    "name": "ipython",
    "version": 2
   },
   "file_extension": ".py",
   "mimetype": "text/x-python",
   "name": "python",
   "nbconvert_exporter": "python",
   "pygments_lexer": "ipython2",
   "version": "2.7.12"
  }
 },
 "nbformat": 4,
 "nbformat_minor": 0
}
