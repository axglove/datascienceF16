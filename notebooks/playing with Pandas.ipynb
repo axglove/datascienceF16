{
 "cells": [
  {
   "cell_type": "code",
   "execution_count": null,
   "metadata": {
    "collapsed": false
   },
   "outputs": [],
   "source": [
    "import pandas as pd\n",
    "import numpy as np\n",
    "from __future__ import division\n",
    "import random\n",
    "pd.set_option('display.max_rows', 500)\n",
    "pd.set_option('display.max_columns', 500)\n",
    "pd.set_option('display.width', 1000)\n",
    "pd.options.display.mpl_style = 'default'"
   ]
  },
  {
   "cell_type": "code",
   "execution_count": null,
   "metadata": {
    "collapsed": true
   },
   "outputs": [],
   "source": [
    "header_row = ['age', 'sex', 'cp', 'trestbps', 'chol', 'fbs', 'restecg', 'thalach', 'exang', 'oldpeak', 'slope', 'ca', 'thal', 'num',]\n",
    "url = 'http://archive.ics.uci.edu/ml/machine-learning-databases/heart-disease/processed.cleveland.data'\n",
    "heart_data = pd.read_csv(url, header=0, na_values='?')\n",
    "heart_data.columns = header_row"
   ]
  },
  {
   "cell_type": "code",
   "execution_count": null,
   "metadata": {
    "collapsed": false
   },
   "outputs": [],
   "source": [
    "print heart_data.head()"
   ]
  },
  {
   "cell_type": "code",
   "execution_count": null,
   "metadata": {
    "collapsed": false
   },
   "outputs": [],
   "source": [
    "#print len(heart_data)\n",
    "#print heart_data[0:10]\n",
    "heart_data.describe()"
   ]
  },
  {
   "cell_type": "code",
   "execution_count": null,
   "metadata": {
    "collapsed": false
   },
   "outputs": [],
   "source": [
    "#print heart_data['age']\n",
    "heart_data['random_var'] = random.random()\n",
    "#print heart_data['random_var']\n",
    "#print heart_data[heart_data['random_var'] >.7]\n",
    "#print heart_data.index\n",
    "\n",
    "#heart_data['random_var'] = [random.random() for i in heart_data.index]\n",
    "\n",
    "#print heart_data['age'].head()\n",
    "#print heart_data[['cp', 'oldpeak']].head()\n",
    "\n",
    "#print type(heart_data['sex'])\n",
    "#print heart_data['sex']\n",
    "#print type(heart_data[['sex']])\n",
    "#print heart_data[['sex']]\n",
    "#print type(heart_data[['cp', 'oldpeak']].head())\n",
    "#print heart_data[['cp', 'oldpeak']].head()\n",
    "\n",
    "heart_subset = heart_data[heart_data['random_var'] >.7].head()\n",
    "print heart_subset"
   ]
  },
  {
   "cell_type": "code",
   "execution_count": null,
   "metadata": {
    "collapsed": false
   },
   "outputs": [],
   "source": [
    "heart_data['chol'].head()"
   ]
  },
  {
   "cell_type": "code",
   "execution_count": null,
   "metadata": {
    "collapsed": false
   },
   "outputs": [],
   "source": [
    "heart_data[heart_data['thalach'] < 150]"
   ]
  },
  {
   "cell_type": "code",
   "execution_count": null,
   "metadata": {
    "collapsed": false
   },
   "outputs": [],
   "source": [
    "#df.col.median()\n",
    "#heart_data['chol'].head()\n",
    "heart_data['age'].median()\n",
    "heart_data.age.median()\n",
    "heart_data[heart_data['age'] > heart_data.age.median()]\n"
   ]
  },
  {
   "cell_type": "code",
   "execution_count": null,
   "metadata": {
    "collapsed": false
   },
   "outputs": [],
   "source": [
    "#Summarise the resting heart beat rate when the pain type is asymptomatic (look up columns in the text file, and use .describe())\n",
    "\n",
    "a_pain = heart_data[heart_data.cp == 4]\n",
    "len(a_pain)\n",
    "a_pain.describe()\n",
    "a_pain['trestbps'].describe()\n",
    "\n"
   ]
  },
  {
   "cell_type": "code",
   "execution_count": null,
   "metadata": {
    "collapsed": false
   },
   "outputs": [],
   "source": [
    "print heart_data[285:290]\n",
    "\n",
    "dropped_rows_heart_data = heart_data.dropna()\n",
    "dropped_ca_thal_heart_data = heart_data.dropna(1)\n",
    "\n",
    "print dropped_rows_heart_data[285:290]\n",
    "print dropped_ca_thal_heart_data[285:290]"
   ]
  },
  {
   "cell_type": "code",
   "execution_count": null,
   "metadata": {
    "collapsed": false
   },
   "outputs": [],
   "source": [
    "#print heart_data[285:290]['ca'].ffill()\n",
    "#print heart_data[285:290]['ca'].bfill()\n",
    "#print heart_data[285:290]['ca'].fillna(0)\n",
    "\n",
    "print heart_data['ca'].mode()\n",
    "\n",
    "print heart_data[285:290]['ca'].fillna(int(heart_data['ca'].mode()))"
   ]
  },
  {
   "cell_type": "code",
   "execution_count": null,
   "metadata": {
    "collapsed": false
   },
   "outputs": [],
   "source": [
    "# 51 thal: 3 = normal; 6 = fixed defect; 7 = reversable defect\n",
    "# fill with 3 (normal)\n",
    "# fill with 0\n",
    "# fill with most common\n",
    "# row 86\n",
    "\n",
    "print heart_data[85:90]\n",
    "\n",
    "print heart_data[85:90]['thal'].fillna(3)\n",
    "\n",
    "print heart_data[85:90]['thal'].bfill()\n",
    "\n",
    "print heart_data[85:90]['thal'].fillna(int(heart_data['thal'].mode()))\n"
   ]
  },
  {
   "cell_type": "code",
   "execution_count": null,
   "metadata": {
    "collapsed": false
   },
   "outputs": [],
   "source": [
    "def high_resting(row):\n",
    "    if row['trestbps'] > row['thalach']:\n",
    "        return 1\n",
    "    else:\n",
    "        return 0\n",
    "    \n",
    "# axis = 1 means what again?\n",
    "#heart_data['high_resting'] = heart_data.apply(high_resting, axis=1)\n",
    "\n",
    "#heart_data['high_resting'] = heart_data.apply(lambda row: 1 if row['trestbps'] > row['thalach'] else 0, axis=1)\n",
    "\n",
    "# axis = 0 means what again?\n",
    "heart_data['resting2x'] = heart_data['trestbps'].apply(lambda x: x*2)\n",
    "\n",
    "#len(heart_data['high_resting'])\n",
    "#print heart_data['high_resting']\n",
    "\n",
    "len(heart_data['resting2x'])\n",
    "print heart_data['high_resting']\n",
    "\n"
   ]
  }
 ],
 "metadata": {
  "anaconda-cloud": {},
  "kernelspec": {
   "display_name": "Python [Root]",
   "language": "python",
   "name": "Python [Root]"
  },
  "language_info": {
   "codemirror_mode": {
    "name": "ipython",
    "version": 2
   },
   "file_extension": ".py",
   "mimetype": "text/x-python",
   "name": "python",
   "nbconvert_exporter": "python",
   "pygments_lexer": "ipython2",
   "version": "2.7.12"
  }
 },
 "nbformat": 4,
 "nbformat_minor": 0
}
