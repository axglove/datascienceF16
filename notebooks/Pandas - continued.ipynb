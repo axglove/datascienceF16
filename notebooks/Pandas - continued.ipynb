{
 "cells": [
  {
   "cell_type": "code",
   "execution_count": 1,
   "metadata": {
    "collapsed": false
   },
   "outputs": [
    {
     "name": "stderr",
     "output_type": "stream",
     "text": [
      "/Users/alexlove/anaconda2/lib/python2.7/site-packages/IPython/core/interactiveshell.py:2885: FutureWarning: \n",
      "mpl_style had been deprecated and will be removed in a future version.\n",
      "Use `matplotlib.pyplot.style.use` instead.\n",
      "\n",
      "  exec(code_obj, self.user_global_ns, self.user_ns)\n"
     ]
    }
   ],
   "source": [
    "import pandas as pd\n",
    "import numpy as np\n",
    "from __future__ import division\n",
    "pd.set_option('display.max_rows', 500)\n",
    "pd.set_option('display.max_columns', 500)\n",
    "pd.set_option('display.width', 1000)\n",
    "pd.options.display.mpl_style = 'default'"
   ]
  },
  {
   "cell_type": "code",
   "execution_count": null,
   "metadata": {
    "collapsed": true
   },
   "outputs": [],
   "source": [
    "'''\n",
    "\n",
    "1. Bring the data into a DataFrame with pandas. The file is auto-mpg.data. Since it is space seperated, you'll have to tell read_csv to use spaces ('\\s+') and not commas (',') as the delimeter. Likewise, you have to name the columns.\n",
    "2. Compare the data for cars from the year 1970 and the year 1982. In general in this data set, have cars changed in terms of mpg, horsepower, etc? (any of the continuous values)\n",
    "3. Horsepower is missing several values. What are some basic techniques to fill in the missing data?\n",
    "more advanced\n",
    "\n",
    "4. Consider splitting the data by year and filling in horsepower that way. What would the python code look like to hande this?\n",
    "5. A handy way to work with strings is to .split() them by a value into a python list. Write an apply() function that generates a new column called \"manufacturer,\" using the last column's data.\n",
    "\n",
    "\n",
    "'''"
   ]
  },
  {
   "cell_type": "code",
   "execution_count": 2,
   "metadata": {
    "collapsed": false
   },
   "outputs": [
    {
     "name": "stdout",
     "output_type": "stream",
     "text": [
      "0    ford pinto\n",
      "dtype: object\n"
     ]
    },
    {
     "name": "stderr",
     "output_type": "stream",
     "text": [
      "/Users/alexlove/anaconda2/lib/python2.7/site-packages/numpy/lib/function_base.py:3834: RuntimeWarning: Invalid value encountered in percentile\n",
      "  RuntimeWarning)\n"
     ]
    },
    {
     "data": {
      "text/html": [
       "<div>\n",
       "<table border=\"1\" class=\"dataframe\">\n",
       "  <thead>\n",
       "    <tr style=\"text-align: right;\">\n",
       "      <th></th>\n",
       "      <th>mpg</th>\n",
       "      <th>cylinders</th>\n",
       "      <th>displacement</th>\n",
       "      <th>horsepower</th>\n",
       "      <th>weight</th>\n",
       "      <th>acceleration</th>\n",
       "      <th>model year</th>\n",
       "      <th>origin</th>\n",
       "    </tr>\n",
       "  </thead>\n",
       "  <tbody>\n",
       "    <tr>\n",
       "      <th>count</th>\n",
       "      <td>397.000000</td>\n",
       "      <td>397.000000</td>\n",
       "      <td>397.000000</td>\n",
       "      <td>391.000000</td>\n",
       "      <td>397.000000</td>\n",
       "      <td>397.000000</td>\n",
       "      <td>397.000000</td>\n",
       "      <td>397.000000</td>\n",
       "    </tr>\n",
       "    <tr>\n",
       "      <th>mean</th>\n",
       "      <td>23.528463</td>\n",
       "      <td>5.448363</td>\n",
       "      <td>193.139798</td>\n",
       "      <td>104.404092</td>\n",
       "      <td>2969.080605</td>\n",
       "      <td>15.577078</td>\n",
       "      <td>76.025189</td>\n",
       "      <td>1.574307</td>\n",
       "    </tr>\n",
       "    <tr>\n",
       "      <th>std</th>\n",
       "      <td>7.820926</td>\n",
       "      <td>1.698329</td>\n",
       "      <td>104.244898</td>\n",
       "      <td>38.518732</td>\n",
       "      <td>847.485218</td>\n",
       "      <td>2.755326</td>\n",
       "      <td>3.689922</td>\n",
       "      <td>0.802549</td>\n",
       "    </tr>\n",
       "    <tr>\n",
       "      <th>min</th>\n",
       "      <td>9.000000</td>\n",
       "      <td>3.000000</td>\n",
       "      <td>68.000000</td>\n",
       "      <td>46.000000</td>\n",
       "      <td>1613.000000</td>\n",
       "      <td>8.000000</td>\n",
       "      <td>70.000000</td>\n",
       "      <td>1.000000</td>\n",
       "    </tr>\n",
       "    <tr>\n",
       "      <th>25%</th>\n",
       "      <td>17.500000</td>\n",
       "      <td>4.000000</td>\n",
       "      <td>104.000000</td>\n",
       "      <td>NaN</td>\n",
       "      <td>2223.000000</td>\n",
       "      <td>13.900000</td>\n",
       "      <td>73.000000</td>\n",
       "      <td>1.000000</td>\n",
       "    </tr>\n",
       "    <tr>\n",
       "      <th>50%</th>\n",
       "      <td>23.000000</td>\n",
       "      <td>4.000000</td>\n",
       "      <td>146.000000</td>\n",
       "      <td>NaN</td>\n",
       "      <td>2800.000000</td>\n",
       "      <td>15.500000</td>\n",
       "      <td>76.000000</td>\n",
       "      <td>1.000000</td>\n",
       "    </tr>\n",
       "    <tr>\n",
       "      <th>75%</th>\n",
       "      <td>29.000000</td>\n",
       "      <td>8.000000</td>\n",
       "      <td>262.000000</td>\n",
       "      <td>NaN</td>\n",
       "      <td>3609.000000</td>\n",
       "      <td>17.200000</td>\n",
       "      <td>79.000000</td>\n",
       "      <td>2.000000</td>\n",
       "    </tr>\n",
       "    <tr>\n",
       "      <th>max</th>\n",
       "      <td>46.600000</td>\n",
       "      <td>8.000000</td>\n",
       "      <td>455.000000</td>\n",
       "      <td>230.000000</td>\n",
       "      <td>5140.000000</td>\n",
       "      <td>24.800000</td>\n",
       "      <td>82.000000</td>\n",
       "      <td>3.000000</td>\n",
       "    </tr>\n",
       "  </tbody>\n",
       "</table>\n",
       "</div>"
      ],
      "text/plain": [
       "              mpg   cylinders  displacement  horsepower       weight  acceleration  model year      origin\n",
       "count  397.000000  397.000000    397.000000  391.000000   397.000000    397.000000  397.000000  397.000000\n",
       "mean    23.528463    5.448363    193.139798  104.404092  2969.080605     15.577078   76.025189    1.574307\n",
       "std      7.820926    1.698329    104.244898   38.518732   847.485218      2.755326    3.689922    0.802549\n",
       "min      9.000000    3.000000     68.000000   46.000000  1613.000000      8.000000   70.000000    1.000000\n",
       "25%     17.500000    4.000000    104.000000         NaN  2223.000000     13.900000   73.000000    1.000000\n",
       "50%     23.000000    4.000000    146.000000         NaN  2800.000000     15.500000   76.000000    1.000000\n",
       "75%     29.000000    8.000000    262.000000         NaN  3609.000000     17.200000   79.000000    2.000000\n",
       "max     46.600000    8.000000    455.000000  230.000000  5140.000000     24.800000   82.000000    3.000000"
      ]
     },
     "execution_count": 2,
     "metadata": {},
     "output_type": "execute_result"
    }
   ],
   "source": [
    "header_row = ['mpg', 'cylinders', 'displacement', 'horsepower', 'weight', 'acceleration', 'model year', 'origin', 'car name']\n",
    "url = 'http://archive.ics.uci.edu/ml/machine-learning-databases/auto-mpg/auto-mpg.data'\n",
    "mpg_data = pd.read_csv(url, sep='\\s+', header=0, na_values='?')\n",
    "mpg_data.columns = header_row\n",
    "\n",
    "#print mpg_data.head()\n",
    "\n",
    "#print mpg_data.columns\n",
    "#print mpg_data['car name']\n",
    "print mpg_data['car name'].mode()\n",
    "mpg_data.describe()\n"
   ]
  },
  {
   "cell_type": "code",
   "execution_count": null,
   "metadata": {
    "collapsed": false
   },
   "outputs": [],
   "source": [
    "mpg_1970_data = mpg_data[mpg_data['model year'] == 70]\n",
    "#print mpg_1970_data.head\n",
    "#print mpg_1970_data['car name'].mode()\n",
    "mpg_1970_data .describe()"
   ]
  },
  {
   "cell_type": "code",
   "execution_count": null,
   "metadata": {
    "collapsed": false
   },
   "outputs": [],
   "source": [
    "mpg_1982_data = mpg_data[mpg_data['model year'] == 82]\n",
    "#print mpg_1982_data\n",
    "#print mpg_1982_data['car name'].mode()\n",
    "mpg_1982_data .describe()"
   ]
  },
  {
   "cell_type": "code",
   "execution_count": null,
   "metadata": {
    "collapsed": false
   },
   "outputs": [],
   "source": [
    "#row_31 = mpg_data[mpg_data.index == 31]\n",
    "row_31 = mpg_data[31:32]\n",
    "row_31['horsepower']\n",
    "\n",
    "#mpg_data[mpg_data['horsepower'] is NaN]"
   ]
  },
  {
   "cell_type": "code",
   "execution_count": null,
   "metadata": {
    "collapsed": false
   },
   "outputs": [],
   "source": [
    "#print mpg_data[30:35]\n",
    "#print mpg_data[30:35]['horsepower'].ffill()\n",
    "#print mpg_data[30:35]['horsepower'].bfill()\n",
    "#print mpg_data[30:35]['horsepower'].fillna(int(mpg_data['horsepower'].mode())) # fill with the most common value\n",
    "#print mpg_data['horsepower'].mode()\n",
    "#print mpg_data['horsepower'].mean()\n",
    "#print mpg_data[30:35]['horsepower'].fillna(int(mpg_data['horsepower'].mean())) # fill with the mean value\n",
    "\n",
    "\n",
    "#mpg_data['horsepower'].fillna(int(mpg_data['horsepower'].mean()), inplace = True) # fill with the mean value\n",
    "#print mpg_data"
   ]
  },
  {
   "cell_type": "code",
   "execution_count": null,
   "metadata": {
    "collapsed": false
   },
   "outputs": [],
   "source": [
    "mpg_data['model year'].unique()"
   ]
  },
  {
   "cell_type": "code",
   "execution_count": 4,
   "metadata": {
    "collapsed": false
   },
   "outputs": [
    {
     "name": "stdout",
     "output_type": "stream",
     "text": [
      "Empty DataFrame\n",
      "Columns: [mpg, cylinders, displacement, horsepower, weight, acceleration, model year, origin, car name]\n",
      "Index: []\n",
      "Empty DataFrame\n",
      "Columns: [mpg, cylinders, displacement, horsepower, weight, acceleration, model year, origin, car name]\n",
      "Index: []\n"
     ]
    }
   ],
   "source": [
    "#print mpg_data[0:32]\n",
    "\n",
    "problem_rows = mpg_data[mpg_data['horsepower'].isnull()]\n",
    "print problem_rows\n",
    "    \n",
    "# create a year = mean dictionary\n",
    "    \n",
    "years = mpg_data['model year'].unique()\n",
    "horsepower_by_year = {}\n",
    "\n",
    "for year in years:\n",
    "      \n",
    "    year_data = mpg_data[mpg_data['model year'] == year]\n",
    "    horsepower_mean = int(year_data['horsepower'].mean())\n",
    "    horsepower_by_year[year] = horsepower_mean\n",
    "     \n",
    "    #this creates a subset but doesn't change mpg_data\n",
    "    #print year_data['horsepower'].fillna(horsepower_mean)\n",
    "    \n",
    "    #this is only \"a copy of a slice from a DataFrame\"\n",
    "     #mpg_data[mpg_data['model year'] == year]['horsepower'].fillna(horsepower_mean, inplace = True)\n",
    "    \n",
    "\n",
    "def fill_blanks(row):\n",
    "    \n",
    "    modelyear = row['model year']\n",
    "    #get the mean horsepower for that year from the dictionaty\n",
    "    horsepower = horsepower_by_year[modelyear]\n",
    "\n",
    "    if np.isnan(row['horsepower']):\n",
    "        #fill with the mean\n",
    "        return horsepower    \n",
    "    else:        \n",
    "        #return the original value\n",
    "        return row['horsepower']\n",
    "    \n",
    "mpg_data['horsepower'] = mpg_data.apply(fill_blanks, axis=1)\n",
    "\n",
    "#Test to make sure it worked\n",
    "\n",
    "problem_rows = mpg_data[mpg_data['horsepower'].isnull()]\n",
    "print problem_rows\n",
    "\n",
    "#print mpg_data[0:32]\n",
    "\n",
    "\n"
   ]
  },
  {
   "cell_type": "code",
   "execution_count": null,
   "metadata": {
    "collapsed": true
   },
   "outputs": [],
   "source": []
  }
 ],
 "metadata": {
  "anaconda-cloud": {},
  "kernelspec": {
   "display_name": "Python [Root]",
   "language": "python",
   "name": "Python [Root]"
  },
  "language_info": {
   "codemirror_mode": {
    "name": "ipython",
    "version": 2
   },
   "file_extension": ".py",
   "mimetype": "text/x-python",
   "name": "python",
   "nbconvert_exporter": "python",
   "pygments_lexer": "ipython2",
   "version": "2.7.12"
  }
 },
 "nbformat": 4,
 "nbformat_minor": 0
}
