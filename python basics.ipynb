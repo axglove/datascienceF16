{
 "cells": [
  {
   "cell_type": "code",
   "execution_count": 4,
   "metadata": {
    "collapsed": true
   },
   "outputs": [],
   "source": [
    "import numpy as np\n",
    "import pandas as pd"
   ]
  },
  {
   "cell_type": "code",
   "execution_count": 14,
   "metadata": {
    "collapsed": false
   },
   "outputs": [
    {
     "data": {
      "text/plain": [
       "bool"
      ]
     },
     "execution_count": 14,
     "metadata": {},
     "output_type": "execute_result"
    }
   ],
   "source": [
    "x = True\n",
    "type(x)"
   ]
  },
  {
   "cell_type": "code",
   "execution_count": 15,
   "metadata": {
    "collapsed": false
   },
   "outputs": [
    {
     "data": {
      "text/plain": [
       "2"
      ]
     },
     "execution_count": 15,
     "metadata": {},
     "output_type": "execute_result"
    }
   ],
   "source": [
    "5 / 2"
   ]
  },
  {
   "cell_type": "code",
   "execution_count": 16,
   "metadata": {
    "collapsed": false
   },
   "outputs": [
    {
     "data": {
      "text/plain": [
       "2.5"
      ]
     },
     "execution_count": 16,
     "metadata": {},
     "output_type": "execute_result"
    }
   ],
   "source": [
    "5 / 2.0"
   ]
  },
  {
   "cell_type": "code",
   "execution_count": 46,
   "metadata": {
    "collapsed": false
   },
   "outputs": [
    {
     "data": {
      "text/plain": [
       "['Monday', 'Thursday', 'Sunday']"
      ]
     },
     "execution_count": 46,
     "metadata": {},
     "output_type": "execute_result"
    }
   ],
   "source": [
    "# LISTS\n",
    "nums = [5, 5.0, 'five']\n",
    "nums              # normally you'd need to print\n",
    "type(nums)\n",
    "len(nums)\n",
    "nums[0]\n",
    "nums[-1]\n",
    "nums[2] = 6       # lists are mutable\n",
    "nums.append(7)    # append is a method on lists\n",
    "nums.remove(5)\n",
    "sorted(nums)      # sorted is a python function that takes in a list\n",
    "                  # default reverse = False is not stated\n",
    "sorted(nums, reverse = True)\n",
    "\n",
    "days_of_the_week = ['Monday', 'Tuesday', 'Wednesday', 'Thursday', 'Friday', 'Saturday', 'Sunday']\n",
    "weekdays = days_of_the_week[0:5]\n",
    "weekdays[0:2]\n",
    "days_of_the_week[5:]       # weekends\n",
    "days_of_the_week[:5]       # weekdays\n",
    "days_of_the_week[0:7:3]    # the third elements means every third element"
   ]
  },
  {
   "cell_type": "code",
   "execution_count": null,
   "metadata": {
    "collapsed": true
   },
   "outputs": [],
   "source": [
    "# TUPLES\n",
    "# like immutable lists"
   ]
  },
  {
   "cell_type": "code",
   "execution_count": 47,
   "metadata": {
    "collapsed": false
   },
   "outputs": [
    {
     "data": {
      "text/plain": [
       "[0, 1, 2, 3, 4, 5, 6, 7, 8, 9]"
      ]
     },
     "execution_count": 47,
     "metadata": {},
     "output_type": "execute_result"
    }
   ],
   "source": [
    "range(10)"
   ]
  },
  {
   "cell_type": "code",
   "execution_count": 57,
   "metadata": {
    "collapsed": false
   },
   "outputs": [
    {
     "name": "stdout",
     "output_type": "stream",
     "text": [
      "x is more than 10!\n",
      "hooray\n"
     ]
    }
   ],
   "source": [
    "# CONDITIONALS\n",
    "\n",
    "x = 11\n",
    "if x > 10:\n",
    "    print \"x is more than 10!\"\n",
    "    print \"hooray\"\n",
    "elif x > 100:\n",
    "    print \"x is huge\"\n",
    "\n",
    "\n",
    "    \n",
    "# stops checking as soon as one conditional is satisfied"
   ]
  },
  {
   "cell_type": "code",
   "execution_count": 2,
   "metadata": {
    "collapsed": false
   },
   "outputs": [],
   "source": [
    "# DICTIONARIES\n",
    "\n",
    "'''\n",
    "dictionary = {\n",
    "    key1: value1\n",
    "    key2: value2\n",
    "}\n",
    "'''\n",
    "\n",
    "# keys have to be a string\n",
    "\n",
    "hunter = {\n",
    "    \"age\": 23,\n",
    "    \"location\": \"Baltimore\",\n",
    "    \"gender\": \"Male\",\n",
    "    \"occupation\": \"the teacher\"\n",
    "}\n",
    "\n",
    "lauren = {\n",
    "    \"age\": 29,\n",
    "    \"location\": \"Baltimore\",\n",
    "    \"gender\": \"Female\",\n",
    "    \"occupation\": \"a friend\"\n",
    "}\n",
    "\n",
    "people = [hunter, lauren]"
   ]
  },
  {
   "cell_type": "code",
   "execution_count": 58,
   "metadata": {
    "collapsed": false
   },
   "outputs": [
    {
     "data": {
      "text/plain": [
       "['Monday', 'Tuesday', 'Wednesday', 'Thursday', 'Friday', 'Saturday', 'Sunday']"
      ]
     },
     "execution_count": 58,
     "metadata": {},
     "output_type": "execute_result"
    }
   ],
   "source": [
    "# ITERATING\n",
    "\n",
    "days_of_the_week\n",
    "for day in days_of_the_week: # the \"day\" variable can be anything\n",
    "    print \"the day is\" + day"
   ]
  },
  {
   "cell_type": "code",
   "execution_count": 74,
   "metadata": {
    "collapsed": false
   },
   "outputs": [
    {
     "name": "stdout",
     "output_type": "stream",
     "text": [
      "<type 'dict'>\n",
      "23 and lives inBaltimore\n",
      "<type 'dict'>\n",
      "29 and lives inBaltimore\n"
     ]
    }
   ],
   "source": [
    "for person in people:\n",
    "    print type(person)\n",
    "    print str(person['age']) + \" and lives in\"+person['location']"
   ]
  },
  {
   "cell_type": "code",
   "execution_count": 3,
   "metadata": {
    "collapsed": false
   },
   "outputs": [
    {
     "data": {
      "text/plain": [
       "[('gender', 'Male'),\n",
       " ('age', 23),\n",
       " ('location', 'Baltimore'),\n",
       " ('occupation', 'the teacher')]"
      ]
     },
     "execution_count": 3,
     "metadata": {},
     "output_type": "execute_result"
    }
   ],
   "source": [
    "hunter.items()   # produces a list"
   ]
  },
  {
   "cell_type": "code",
   "execution_count": 4,
   "metadata": {
    "collapsed": false
   },
   "outputs": [
    {
     "data": {
      "text/plain": [
       "'gender'"
      ]
     },
     "execution_count": 4,
     "metadata": {},
     "output_type": "execute_result"
    }
   ],
   "source": [
    "hunter.items()[0][0]"
   ]
  },
  {
   "cell_type": "code",
   "execution_count": 18,
   "metadata": {
    "collapsed": false
   },
   "outputs": [
    {
     "name": "stdout",
     "output_type": "stream",
     "text": [
      "('gender', 'Male')\n",
      "('age', 23)\n",
      "('location', 'Baltimore')\n",
      "('occupation', 'the teacher')\n",
      " \n",
      "gender\n",
      "age\n",
      "location\n",
      "occupation\n",
      " \n",
      "Male\n",
      "23\n",
      "Baltimore\n",
      "the teacher\n"
     ]
    }
   ],
   "source": [
    "'''\n",
    "for element in hunter.items():\n",
    "    print element[0]\n",
    "    \n",
    "for first, second in hunter.items():\n",
    "    print second\n",
    "'''\n",
    "\n",
    "for a in hunter.items():\n",
    "    print a\n",
    "\n",
    "print ' '\n",
    "\n",
    "for a, b in hunter.items():\n",
    "    print  a\n",
    "\n",
    "print ' ' \n",
    "\n",
    "for a, b in hunter.items():\n",
    "    print  b"
   ]
  },
  {
   "cell_type": "code",
   "execution_count": 34,
   "metadata": {
    "collapsed": false
   },
   "outputs": [
    {
     "name": "stdout",
     "output_type": "stream",
     "text": [
      "['a', 0, 'avocado']\n",
      "['b', 2, 'blue']\n",
      "['c', 3, 'charteuse']\n",
      " \n",
      "avocado\n",
      "blue\n",
      "charteuse\n"
     ]
    }
   ],
   "source": [
    "mystuff = [['a', 0, 'avocado'], ['b', 2, 'blue'], ['c', 3, 'charteuse']]\n",
    "\n",
    "\n",
    "for a in mystuff:\n",
    "    print a\n",
    "    \n",
    "print ' '\n",
    "    \n",
    "for a, b, c in mystuff:\n",
    "    print c\n"
   ]
  },
  {
   "cell_type": "code",
   "execution_count": 40,
   "metadata": {
    "collapsed": false
   },
   "outputs": [
    {
     "data": {
      "text/plain": [
       "[1.4142135623730951,\n",
       " 2.23606797749979,\n",
       " 2.6457513110645907,\n",
       " 2.0,\n",
       " 1.4142135623730951,\n",
       " 2.23606797749979]"
      ]
     },
     "execution_count": 40,
     "metadata": {},
     "output_type": "execute_result"
    }
   ],
   "source": [
    "# LIST COMPREHENSIONS\n",
    "# Python only!\n",
    "# like for loops\n",
    "\n",
    "import math\n",
    "\n",
    "flubber = [2, 5, 7, 4, 2, 5]\n",
    "len(flubber)\n",
    "[n**2 for n in flubber]\n",
    "[y / 2.0 for y in flubber]\n",
    "[math.sqrt(r) for r in flubber]\n"
   ]
  },
  {
   "cell_type": "code",
   "execution_count": 44,
   "metadata": {
    "collapsed": false
   },
   "outputs": [
    {
     "name": "stdout",
     "output_type": "stream",
     "text": [
      "I'm gonna give you five\n",
      "gave you five\n"
     ]
    }
   ],
   "source": [
    "# FUNCTIONS\n",
    "\n",
    "def give_me_five():\n",
    "    print \"I'm gonna give you five\"\n",
    "    return 5\n",
    "\n",
    "give_me_five()  \n",
    "print \"gave you five\""
   ]
  },
  {
   "cell_type": "code",
   "execution_count": 94,
   "metadata": {
    "collapsed": false
   },
   "outputs": [
    {
     "name": "stdout",
     "output_type": "stream",
     "text": [
      "I'm gonna give you five\n",
      "5\n"
     ]
    }
   ],
   "source": [
    "a_new_var = give_me_five()\n",
    "print a_new_var"
   ]
  },
  {
   "cell_type": "code",
   "execution_count": 51,
   "metadata": {
    "collapsed": false
   },
   "outputs": [
    {
     "data": {
      "text/plain": [
       "[3, 4, 5]"
      ]
     },
     "execution_count": 51,
     "metadata": {},
     "output_type": "execute_result"
    }
   ],
   "source": [
    "point_1 = (1, 2, 2)\n",
    "point_2 = (3, 4, 5)\n",
    "\n",
    "pairs = zip(point_1, point_2)\n",
    "'''\n",
    "for x in pairs:    \n",
    "    print x\n",
    "    print \" \"\n",
    "    print x[0]\n",
    "    print \" \"\n",
    "    print x[1]\n",
    "    print \" \"\n",
    "    print \" \"\n",
    " '''\n",
    "\n",
    "[x for x in pairs] \n",
    "[x[0] for x in pairs] \n",
    "[x[1] for x in pairs]     # same thing\n",
    "\n",
    "    "
   ]
  },
  {
   "cell_type": "code",
   "execution_count": null,
   "metadata": {
    "collapsed": true
   },
   "outputs": [],
   "source": []
  }
 ],
 "metadata": {
  "anaconda-cloud": {},
  "kernelspec": {
   "display_name": "Python [Root]",
   "language": "python",
   "name": "Python [Root]"
  },
  "language_info": {
   "codemirror_mode": {
    "name": "ipython",
    "version": 2
   },
   "file_extension": ".py",
   "mimetype": "text/x-python",
   "name": "python",
   "nbconvert_exporter": "python",
   "pygments_lexer": "ipython2",
   "version": "2.7.12"
  }
 },
 "nbformat": 4,
 "nbformat_minor": 0
}
